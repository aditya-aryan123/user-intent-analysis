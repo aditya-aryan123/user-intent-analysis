{
 "cells": [
  {
   "cell_type": "code",
   "execution_count": 1,
   "id": "ddb87ff9",
   "metadata": {},
   "outputs": [],
   "source": [
    "import pandas as pd\n",
    "from distfit import distfit"
   ]
  },
  {
   "cell_type": "code",
   "execution_count": 3,
   "id": "3c9a85e2",
   "metadata": {},
   "outputs": [
    {
     "data": {
      "text/html": [
       "<div>\n",
       "<style scoped>\n",
       "    .dataframe tbody tr th:only-of-type {\n",
       "        vertical-align: middle;\n",
       "    }\n",
       "\n",
       "    .dataframe tbody tr th {\n",
       "        vertical-align: top;\n",
       "    }\n",
       "\n",
       "    .dataframe thead th {\n",
       "        text-align: right;\n",
       "    }\n",
       "</style>\n",
       "<table border=\"1\" class=\"dataframe\">\n",
       "  <thead>\n",
       "    <tr style=\"text-align: right;\">\n",
       "      <th></th>\n",
       "      <th>Administrative</th>\n",
       "      <th>Administrative_Duration</th>\n",
       "      <th>Informational</th>\n",
       "      <th>Informational_Duration</th>\n",
       "      <th>ProductRelated</th>\n",
       "      <th>ProductRelated_Duration</th>\n",
       "      <th>BounceRates in %</th>\n",
       "      <th>ExitRates in %</th>\n",
       "      <th>PageValues</th>\n",
       "      <th>SpecialDay (probability)</th>\n",
       "      <th>Month</th>\n",
       "      <th>OperatingSystems</th>\n",
       "      <th>Browser</th>\n",
       "      <th>Region</th>\n",
       "      <th>TrafficType</th>\n",
       "      <th>VisitorType</th>\n",
       "      <th>Weekend</th>\n",
       "      <th>Revenue</th>\n",
       "    </tr>\n",
       "  </thead>\n",
       "  <tbody>\n",
       "    <tr>\n",
       "      <th>0</th>\n",
       "      <td>0</td>\n",
       "      <td>0.0</td>\n",
       "      <td>0</td>\n",
       "      <td>0.0</td>\n",
       "      <td>1</td>\n",
       "      <td>0.000000</td>\n",
       "      <td>0.20</td>\n",
       "      <td>0.20</td>\n",
       "      <td>0.0</td>\n",
       "      <td>0.0</td>\n",
       "      <td>Feb</td>\n",
       "      <td>1</td>\n",
       "      <td>1</td>\n",
       "      <td>1</td>\n",
       "      <td>1</td>\n",
       "      <td>Returning_Visitor</td>\n",
       "      <td>False</td>\n",
       "      <td>False</td>\n",
       "    </tr>\n",
       "    <tr>\n",
       "      <th>1</th>\n",
       "      <td>0</td>\n",
       "      <td>0.0</td>\n",
       "      <td>0</td>\n",
       "      <td>0.0</td>\n",
       "      <td>2</td>\n",
       "      <td>64.000000</td>\n",
       "      <td>0.00</td>\n",
       "      <td>0.10</td>\n",
       "      <td>0.0</td>\n",
       "      <td>0.0</td>\n",
       "      <td>Feb</td>\n",
       "      <td>2</td>\n",
       "      <td>2</td>\n",
       "      <td>1</td>\n",
       "      <td>2</td>\n",
       "      <td>Returning_Visitor</td>\n",
       "      <td>False</td>\n",
       "      <td>False</td>\n",
       "    </tr>\n",
       "    <tr>\n",
       "      <th>2</th>\n",
       "      <td>0</td>\n",
       "      <td>0.0</td>\n",
       "      <td>0</td>\n",
       "      <td>0.0</td>\n",
       "      <td>1</td>\n",
       "      <td>0.000000</td>\n",
       "      <td>0.20</td>\n",
       "      <td>0.20</td>\n",
       "      <td>0.0</td>\n",
       "      <td>0.0</td>\n",
       "      <td>Feb</td>\n",
       "      <td>4</td>\n",
       "      <td>1</td>\n",
       "      <td>9</td>\n",
       "      <td>3</td>\n",
       "      <td>Returning_Visitor</td>\n",
       "      <td>False</td>\n",
       "      <td>False</td>\n",
       "    </tr>\n",
       "    <tr>\n",
       "      <th>3</th>\n",
       "      <td>0</td>\n",
       "      <td>0.0</td>\n",
       "      <td>0</td>\n",
       "      <td>0.0</td>\n",
       "      <td>2</td>\n",
       "      <td>2.666667</td>\n",
       "      <td>0.05</td>\n",
       "      <td>0.14</td>\n",
       "      <td>0.0</td>\n",
       "      <td>0.0</td>\n",
       "      <td>Feb</td>\n",
       "      <td>3</td>\n",
       "      <td>2</td>\n",
       "      <td>2</td>\n",
       "      <td>4</td>\n",
       "      <td>Returning_Visitor</td>\n",
       "      <td>False</td>\n",
       "      <td>False</td>\n",
       "    </tr>\n",
       "    <tr>\n",
       "      <th>4</th>\n",
       "      <td>0</td>\n",
       "      <td>0.0</td>\n",
       "      <td>0</td>\n",
       "      <td>0.0</td>\n",
       "      <td>10</td>\n",
       "      <td>627.500000</td>\n",
       "      <td>0.02</td>\n",
       "      <td>0.05</td>\n",
       "      <td>0.0</td>\n",
       "      <td>0.0</td>\n",
       "      <td>Feb</td>\n",
       "      <td>3</td>\n",
       "      <td>3</td>\n",
       "      <td>1</td>\n",
       "      <td>4</td>\n",
       "      <td>Returning_Visitor</td>\n",
       "      <td>True</td>\n",
       "      <td>False</td>\n",
       "    </tr>\n",
       "  </tbody>\n",
       "</table>\n",
       "</div>"
      ],
      "text/plain": [
       "   Administrative  Administrative_Duration  Informational  \\\n",
       "0               0                      0.0              0   \n",
       "1               0                      0.0              0   \n",
       "2               0                      0.0              0   \n",
       "3               0                      0.0              0   \n",
       "4               0                      0.0              0   \n",
       "\n",
       "   Informational_Duration  ProductRelated  ProductRelated_Duration  \\\n",
       "0                     0.0               1                 0.000000   \n",
       "1                     0.0               2                64.000000   \n",
       "2                     0.0               1                 0.000000   \n",
       "3                     0.0               2                 2.666667   \n",
       "4                     0.0              10               627.500000   \n",
       "\n",
       "   BounceRates in %  ExitRates in %  PageValues  SpecialDay (probability)  \\\n",
       "0              0.20            0.20         0.0                       0.0   \n",
       "1              0.00            0.10         0.0                       0.0   \n",
       "2              0.20            0.20         0.0                       0.0   \n",
       "3              0.05            0.14         0.0                       0.0   \n",
       "4              0.02            0.05         0.0                       0.0   \n",
       "\n",
       "  Month  OperatingSystems  Browser  Region  TrafficType        VisitorType  \\\n",
       "0   Feb                 1        1       1            1  Returning_Visitor   \n",
       "1   Feb                 2        2       1            2  Returning_Visitor   \n",
       "2   Feb                 4        1       9            3  Returning_Visitor   \n",
       "3   Feb                 3        2       2            4  Returning_Visitor   \n",
       "4   Feb                 3        3       1            4  Returning_Visitor   \n",
       "\n",
       "   Weekend  Revenue  \n",
       "0    False    False  \n",
       "1    False    False  \n",
       "2    False    False  \n",
       "3    False    False  \n",
       "4     True    False  "
      ]
     },
     "execution_count": 3,
     "metadata": {},
     "output_type": "execute_result"
    }
   ],
   "source": [
    "df = pd.read_csv(\"online_shoppers_intention (1).csv\")\n",
    "df.head()"
   ]
  },
  {
   "cell_type": "code",
   "execution_count": 4,
   "id": "546423d3",
   "metadata": {},
   "outputs": [],
   "source": [
    "dist = distfit()"
   ]
  },
  {
   "cell_type": "code",
   "execution_count": 19,
   "id": "0da49175",
   "metadata": {},
   "outputs": [
    {
     "name": "stdout",
     "output_type": "stream",
     "text": [
      "[distfit] >Cleaning previous fitted model results..\n",
      "[distfit] >fit..\n",
      "[distfit] >transform..\n",
      "[distfit] >[norm      ] [0.00 sec] [RSS: 1787.11] [loc=0.155 scale=0.362]\n",
      "[distfit] >[expon     ] [0.00 sec] [RSS: 1494.9] [loc=0.000 scale=0.155]\n",
      "[distfit] >[pareto    ] [0.18 sec] [RSS: 1846.01] [loc=-0.000 scale=0.000]\n",
      "[distfit] >[dweibull  ] [0.29 sec] [RSS: 1515.84] [loc=0.000 scale=0.212]\n",
      "[distfit] >[t         ] [0.09 sec] [RSS: 1846.01] [loc=0.000 scale=0.000]\n",
      "[distfit] >[genextreme] [0.37 sec] [RSS: 1846.01] [loc=0.000 scale=0.000]\n",
      "[distfit] >[gamma     ] [0.12 sec] [RSS: 1103.06] [loc=-0.000 scale=0.413]\n",
      "[distfit] >[lognorm   ] [0.12 sec] [RSS: 1846.01] [loc=-0.000 scale=0.000]\n",
      "[distfit] >[beta      ] [0.21 sec] [RSS: 1087.69] [loc=-0.000 scale=19.359]\n",
      "[distfit] >[uniform   ] [0.0 sec] [RSS: 1796.01] [loc=0.000 scale=1.000]\n",
      "[distfit] >[loggamma  ] [0.10 sec] [RSS: 1789.78] [loc=-126.950 scale=16.766]\n",
      "[distfit] >Compute confidence interval [parametric]\n"
     ]
    },
    {
     "data": {
      "text/plain": [
       "{'model': {'distr': <scipy.stats._continuous_distns.beta_gen at 0x201f0eceec0>,\n",
       "  'stats': 'RSS',\n",
       "  'params': (0.1546497133398032,\n",
       "   181.09337732149243,\n",
       "   -8.726522496479178e-31,\n",
       "   19.358665134372014),\n",
       "  'name': 'beta',\n",
       "  'model': <scipy.stats._distn_infrastructure.rv_frozen at 0x201f144a2c0>,\n",
       "  'score': 1087.6876744859733,\n",
       "  'loc': -8.726522496479178e-31,\n",
       "  'scale': 19.358665134372014,\n",
       "  'arg': (0.1546497133398032, 181.09337732149243),\n",
       "  'CII_min_alpha': 2.618293691380233e-10,\n",
       "  'CII_max_alpha': 0.09043980583427245},\n",
       " 'summary':          distr        score  LLE         loc      scale  \\\n",
       " 0         beta  1087.687674  NaN        -0.0  19.358665   \n",
       " 1        gamma   1103.05559  NaN        -0.0   0.412504   \n",
       " 2        expon  1494.903279  NaN         0.0   0.154745   \n",
       " 3     dweibull  1515.842239  NaN         0.0    0.21208   \n",
       " 4         norm   1787.11215  NaN    0.154745   0.361661   \n",
       " 5     loggamma  1789.781591  NaN -126.950316  16.766178   \n",
       " 6      uniform  1796.006713  NaN         0.0        1.0   \n",
       " 7      lognorm  1846.006713  NaN        -0.0        0.0   \n",
       " 8   genextreme  1846.006713  NaN         0.0        0.0   \n",
       " 9       pareto  1846.006713  NaN        -0.0        0.0   \n",
       " 10           t  1846.006713  NaN         0.0        0.0   \n",
       " \n",
       "                                          arg  \n",
       " 0   (0.1546497133398032, 181.09337732149243)  \n",
       " 1                      (0.2573036320061246,)  \n",
       " 2                                         ()  \n",
       " 3                      (0.5422233970827586,)  \n",
       " 4                                         ()  \n",
       " 5                      (1961.8967513102248,)  \n",
       " 6                                         ()  \n",
       " 7                      (1.8109418472864962,)  \n",
       " 8                     (-1.1061774085126146,)  \n",
       " 9                       (2.049508418520311,)  \n",
       " 10                     (2.1214822448655655,)  ,\n",
       " 'histdata': (array([42.26277372,  0.        ,  0.        ,  0.        ,  0.        ,\n",
       "          0.        ,  0.        ,  0.        ,  0.        ,  0.        ,\n",
       "          0.        ,  0.        ,  0.        ,  0.        ,  0.        ,\n",
       "          0.        ,  0.        ,  0.        ,  0.        ,  0.        ,\n",
       "          0.        ,  0.        ,  0.        ,  0.        ,  0.        ,\n",
       "          0.        ,  0.        ,  0.        ,  0.        ,  0.        ,\n",
       "          0.        ,  0.        ,  0.        ,  0.        ,  0.        ,\n",
       "          0.        ,  0.        ,  0.        ,  0.        ,  0.        ,\n",
       "          0.        ,  0.        ,  0.        ,  0.        ,  0.        ,\n",
       "          0.        ,  0.        ,  0.        ,  0.        ,  7.73722628]),\n",
       "  array([0.01, 0.03, 0.05, 0.07, 0.09, 0.11, 0.13, 0.15, 0.17, 0.19, 0.21,\n",
       "         0.23, 0.25, 0.27, 0.29, 0.31, 0.33, 0.35, 0.37, 0.39, 0.41, 0.43,\n",
       "         0.45, 0.47, 0.49, 0.51, 0.53, 0.55, 0.57, 0.59, 0.61, 0.63, 0.65,\n",
       "         0.67, 0.69, 0.71, 0.73, 0.75, 0.77, 0.79, 0.81, 0.83, 0.85, 0.87,\n",
       "         0.89, 0.91, 0.93, 0.95, 0.97, 0.99])),\n",
       " 'size': 12330,\n",
       " 'alpha': 0.05,\n",
       " 'stats': 'RSS',\n",
       " 'bins': 50,\n",
       " 'bound': 'both',\n",
       " 'distr': 'popular',\n",
       " 'method': 'parametric',\n",
       " 'multtest': 'fdr_bh',\n",
       " 'n_perm': 10000,\n",
       " 'smooth': None,\n",
       " 'weighted': True,\n",
       " 'f': 1.5}"
      ]
     },
     "execution_count": 19,
     "metadata": {},
     "output_type": "execute_result"
    }
   ],
   "source": [
    "X = df['Revenue'].values\n",
    "dist.fit_transform(X)"
   ]
  },
  {
   "cell_type": "code",
   "execution_count": 20,
   "id": "2c067aa1",
   "metadata": {},
   "outputs": [
    {
     "name": "stdout",
     "output_type": "stream",
     "text": [
      "         distr        score  LLE         loc      scale  \\\n",
      "0         beta  1087.687674  NaN        -0.0  19.358665   \n",
      "1        gamma   1103.05559  NaN        -0.0   0.412504   \n",
      "2        expon  1494.903279  NaN         0.0   0.154745   \n",
      "3     dweibull  1515.842239  NaN         0.0    0.21208   \n",
      "4         norm   1787.11215  NaN    0.154745   0.361661   \n",
      "5     loggamma  1789.781591  NaN -126.950316  16.766178   \n",
      "6      uniform  1796.006713  NaN         0.0        1.0   \n",
      "7      lognorm  1846.006713  NaN        -0.0        0.0   \n",
      "8   genextreme  1846.006713  NaN         0.0        0.0   \n",
      "9       pareto  1846.006713  NaN        -0.0        0.0   \n",
      "10           t  1846.006713  NaN         0.0        0.0   \n",
      "\n",
      "                                         arg  \n",
      "0   (0.1546497133398032, 181.09337732149243)  \n",
      "1                      (0.2573036320061246,)  \n",
      "2                                         ()  \n",
      "3                      (0.5422233970827586,)  \n",
      "4                                         ()  \n",
      "5                      (1961.8967513102248,)  \n",
      "6                                         ()  \n",
      "7                      (1.8109418472864962,)  \n",
      "8                     (-1.1061774085126146,)  \n",
      "9                       (2.049508418520311,)  \n",
      "10                     (2.1214822448655655,)  \n"
     ]
    }
   ],
   "source": [
    "print(dist.summary)"
   ]
  },
  {
   "cell_type": "code",
   "execution_count": 7,
   "id": "b21d32ae",
   "metadata": {},
   "outputs": [],
   "source": [
    "from scipy.stats import bernoulli"
   ]
  },
  {
   "cell_type": "code",
   "execution_count": 13,
   "id": "b884935a",
   "metadata": {},
   "outputs": [],
   "source": [
    "revenue = df['Revenue'].values\n",
    "p = revenue.mean()\n",
    "bernoulli_dist = bernoulli(p)"
   ]
  },
  {
   "cell_type": "code",
   "execution_count": 14,
   "id": "faa92652",
   "metadata": {},
   "outputs": [
    {
     "name": "stdout",
     "output_type": "stream",
     "text": [
      "0.15474452554744525\n",
      "0.8452554744525548\n",
      "0.17398884239888424\n",
      "Month\n",
      "Aug     0.175520\n",
      "Dec     0.125072\n",
      "Feb     0.016304\n",
      "Jul     0.152778\n",
      "June    0.100694\n",
      "Mar     0.100682\n",
      "May     0.108502\n",
      "Nov     0.253502\n",
      "Oct     0.209472\n",
      "Sep     0.191964\n",
      "Name: Revenue, dtype: float64\n"
     ]
    }
   ],
   "source": [
    "# probability of success (customer making a purchase)\n",
    "print(bernoulli_dist.mean())\n",
    "\n",
    "# probability of failure (customer not making a purchase)\n",
    "print(bernoulli_dist.pmf(0))\n",
    "\n",
    "# Given a set of features for a customer, for example, the customer is browsing on a weekend, \n",
    "# what is the probability that they will make a purchase\n",
    "weekend_visitor = df[df['Weekend']==1]\n",
    "p_weekend = weekend_visitor['Revenue'].mean()\n",
    "bernoulli_dist = bernoulli(p_weekend)\n",
    "print(bernoulli_dist.mean())\n",
    "\n",
    "# How does the probability of a customer making a purchase vary based on different values of the other features in your dataset\n",
    "month_prob = df.groupby(['Month'])['Revenue'].mean()\n",
    "print(month_prob)"
   ]
  },
  {
   "cell_type": "code",
   "execution_count": 18,
   "id": "70c84ea7",
   "metadata": {},
   "outputs": [
    {
     "name": "stdout",
     "output_type": "stream",
     "text": [
      "0.17398884239888424\n",
      "0.8260111576011158\n",
      "1.0\n",
      "-1.0\n",
      "1.0\n",
      "0.8260111576011158\n"
     ]
    }
   ],
   "source": [
    "pmf_1 = bernoulli_dist.pmf(1)\n",
    "print(pmf_1)\n",
    "\n",
    "# PMF of getting a revenue of 0\n",
    "pmf_0 = bernoulli_dist.pmf(0)\n",
    "print(pmf_0)\n",
    "\n",
    "# PPF of getting a revenue of 1\n",
    "ppf_1 = bernoulli_dist.ppf(1)\n",
    "print(ppf_1)\n",
    "\n",
    "# PPF of getting a revenue of 0\n",
    "ppf_0 = bernoulli_dist.ppf(0)\n",
    "print(ppf_0)\n",
    "\n",
    "# CDF of getting a revenue of 1\n",
    "cdf_1 = bernoulli_dist.cdf(1)\n",
    "print(cdf_1)\n",
    "\n",
    "# CDF of getting a revenue of 0\n",
    "cdf_0 = bernoulli_dist.cdf(0)\n",
    "print(cdf_0)"
   ]
  },
  {
   "cell_type": "markdown",
   "id": "815fec9b",
   "metadata": {},
   "source": [
    "Given a set of features for a customer, for example, the customer is browsing on a weekday, what is the probability that they will make a purchase?"
   ]
  },
  {
   "cell_type": "code",
   "execution_count": 21,
   "id": "91177b51",
   "metadata": {},
   "outputs": [
    {
     "name": "stdout",
     "output_type": "stream",
     "text": [
      "0.1489114352145424\n"
     ]
    }
   ],
   "source": [
    "weekday_visitor = df[df['Weekend']==0]\n",
    "p_weekday = weekday_visitor['Revenue'].mean()\n",
    "bernoulli_dist = bernoulli(p_weekday)\n",
    "print(bernoulli_dist.mean())"
   ]
  },
  {
   "cell_type": "markdown",
   "id": "2d4cfb11",
   "metadata": {},
   "source": [
    "Given a set of features for a customer, for example, the customer is using a specific Operating System, what is the probability that they will make a purchase?"
   ]
  },
  {
   "cell_type": "code",
   "execution_count": 22,
   "id": "d61a81d5",
   "metadata": {},
   "outputs": [
    {
     "name": "stdout",
     "output_type": "stream",
     "text": [
      "nan\n"
     ]
    }
   ],
   "source": [
    "Windows_visitor = df[df['OperatingSystems']=='Windows']\n",
    "p_Windows = Windows_visitor['Revenue'].mean()\n",
    "bernoulli_dist = bernoulli(p_Windows)\n",
    "print(bernoulli_dist.mean())"
   ]
  },
  {
   "cell_type": "markdown",
   "id": "ad613178",
   "metadata": {},
   "source": [
    "Given a set of features for a customer, for example, the customer is visiting the site on a specific Special Day, what is the probability that they will make a purchase?"
   ]
  },
  {
   "cell_type": "code",
   "execution_count": 1,
   "id": "84ae612c",
   "metadata": {},
   "outputs": [
    {
     "ename": "NameError",
     "evalue": "name 'df' is not defined",
     "output_type": "error",
     "traceback": [
      "\u001b[1;31m---------------------------------------------------------------------------\u001b[0m",
      "\u001b[1;31mNameError\u001b[0m                                 Traceback (most recent call last)",
      "Input \u001b[1;32mIn [1]\u001b[0m, in \u001b[0;36m<cell line: 1>\u001b[1;34m()\u001b[0m\n\u001b[1;32m----> 1\u001b[0m SpecialDay_0_visitor \u001b[38;5;241m=\u001b[39m \u001b[43mdf\u001b[49m[df[\u001b[38;5;124m'\u001b[39m\u001b[38;5;124mSpecialDay (probability)\u001b[39m\u001b[38;5;124m'\u001b[39m]\u001b[38;5;241m==\u001b[39m\u001b[38;5;241m0\u001b[39m]\n\u001b[0;32m      2\u001b[0m p_SpecialDay_0 \u001b[38;5;241m=\u001b[39m SpecialDay_0_visitor[\u001b[38;5;124m'\u001b[39m\u001b[38;5;124mRevenue\u001b[39m\u001b[38;5;124m'\u001b[39m]\u001b[38;5;241m.\u001b[39mmean()\n\u001b[0;32m      3\u001b[0m bernoulli_dist \u001b[38;5;241m=\u001b[39m bernoulli(p_SpecialDay_0)\n",
      "\u001b[1;31mNameError\u001b[0m: name 'df' is not defined"
     ]
    }
   ],
   "source": [
    "SpecialDay_0_visitor = df[df['SpecialDay (probability)']==0]\n",
    "p_SpecialDay_0 = SpecialDay_0_visitor['Revenue'].mean()\n",
    "bernoulli_dist = bernoulli(p_SpecialDay_0)\n",
    "print(bernoulli_dist.mean())"
   ]
  },
  {
   "cell_type": "markdown",
   "id": "4782fffb",
   "metadata": {},
   "source": [
    "Given a set of features for a customer, for example, the customer is browsing on a weekend, what is the probability that they will make a purchase (i.e. have a revenue value of 1) greater than 0.8?"
   ]
  },
  {
   "cell_type": "code",
   "execution_count": 48,
   "id": "7fe85331",
   "metadata": {},
   "outputs": [
    {
     "name": "stdout",
     "output_type": "stream",
     "text": [
      "0.17398884239888424\n"
     ]
    },
    {
     "data": {
      "text/plain": [
       "False"
      ]
     },
     "execution_count": 48,
     "metadata": {},
     "output_type": "execute_result"
    }
   ],
   "source": [
    "weekend_visitor = df[df['Weekend']==1]\n",
    "weekend_visitor['Revenue'].mean()\n",
    "bernoulli_dist = bernoulli(p_weekend)\n",
    "prob = bernoulli_dist.pmf(1)\n",
    "print(prob)\n",
    "prob > 0.8"
   ]
  },
  {
   "cell_type": "code",
   "execution_count": 24,
   "id": "bce9b915",
   "metadata": {},
   "outputs": [
    {
     "name": "stdout",
     "output_type": "stream",
     "text": [
      "False\n"
     ]
    }
   ],
   "source": [
    "weekend_visitor = df[df['Weekend']==1]\n",
    "p_weekend = weekend_visitor['Revenue'].mean()\n",
    "bernoulli_dist = bernoulli(p_weekend)\n",
    "prob = bernoulli_dist.pmf(1)\n",
    "print(prob > 0.8)"
   ]
  },
  {
   "cell_type": "markdown",
   "id": "e901fae3",
   "metadata": {},
   "source": [
    "Given a set of features for a customer, for example, the customer is using a specific Browser, what is the probability that they will not make a purchase (i.e. have a revenue value of 0) less than 0.2?"
   ]
  },
  {
   "cell_type": "code",
   "execution_count": 47,
   "id": "56d64a58",
   "metadata": {},
   "outputs": [
    {
     "name": "stdout",
     "output_type": "stream",
     "text": [
      "nan\n"
     ]
    }
   ],
   "source": [
    "Firefox_visitor = df[df['Browser']=='Firefox']\n",
    "p_Firefox = Firefox_visitor['Revenue'].mean()\n",
    "bernoulli_dist = bernoulli(p_Firefox)\n",
    "prob = bernoulli_dist.cdf(0.5)\n",
    "print(prob)"
   ]
  },
  {
   "cell_type": "code",
   "execution_count": 37,
   "id": "b4013c79",
   "metadata": {},
   "outputs": [
    {
     "name": "stdout",
     "output_type": "stream",
     "text": [
      "nan\n",
      "False\n"
     ]
    }
   ],
   "source": [
    "Firefox_visitor = df[df['Browser']=='Firefox']\n",
    "p_Firefox = Firefox_visitor['Revenue'].mean()\n",
    "bernoulli_dist = bernoulli(p_Firefox)\n",
    "prob = bernoulli_dist.cdf(0)\n",
    "print(prob)\n",
    "print(prob < 0.2)"
   ]
  },
  {
   "cell_type": "markdown",
   "id": "24302277",
   "metadata": {},
   "source": [
    "Given a set of features for a customer, for example, the customer is visiting the site on a specific Special Day, what is the revenue value for which the probability of observing a revenue less than or equal to that value is 0.99?"
   ]
  },
  {
   "cell_type": "code",
   "execution_count": 27,
   "id": "c60fac43",
   "metadata": {},
   "outputs": [
    {
     "data": {
      "text/plain": [
       "array([0. , 0.4, 0.8, 1. , 0.2, 0.6])"
      ]
     },
     "execution_count": 27,
     "metadata": {},
     "output_type": "execute_result"
    }
   ],
   "source": [
    "df['SpecialDay (probability)'].unique()"
   ]
  },
  {
   "cell_type": "code",
   "execution_count": 36,
   "id": "416adf16",
   "metadata": {},
   "outputs": [
    {
     "name": "stdout",
     "output_type": "stream",
     "text": [
      "0.0\n"
     ]
    }
   ],
   "source": [
    "SpecialDay_0_visitor = df[df['SpecialDay (probability)']==0.6]\n",
    "p_SpecialDay_0 = SpecialDay_0_visitor['Revenue'].mean()\n",
    "bernoulli_dist = bernoulli(p_SpecialDay_0)\n",
    "revenue_val = bernoulli_dist.ppf(0.75)\n",
    "print(revenue_val)"
   ]
  },
  {
   "cell_type": "code",
   "execution_count": null,
   "id": "e630bcac",
   "metadata": {},
   "outputs": [],
   "source": []
  }
 ],
 "metadata": {
  "kernelspec": {
   "display_name": "Python 3 (ipykernel)",
   "language": "python",
   "name": "python3"
  },
  "language_info": {
   "codemirror_mode": {
    "name": "ipython",
    "version": 3
   },
   "file_extension": ".py",
   "mimetype": "text/x-python",
   "name": "python",
   "nbconvert_exporter": "python",
   "pygments_lexer": "ipython3",
   "version": "3.10.5"
  }
 },
 "nbformat": 4,
 "nbformat_minor": 5
}
